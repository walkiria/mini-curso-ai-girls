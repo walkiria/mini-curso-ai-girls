{
 "cells": [
  {
   "cell_type": "markdown",
   "metadata": {
    "toc": true
   },
   "source": [
    "<h1>Table of Contents<span class=\"tocSkip\"></span></h1>\n",
    "<div class=\"toc\"><ul class=\"toc-item\"><li><span><a href=\"#Aula-1\" data-toc-modified-id=\"Aula-1-1\"><span class=\"toc-item-num\">1&nbsp;&nbsp;</span>Aula 1</a></span></li><li><span><a href=\"#Aula-2\" data-toc-modified-id=\"Aula-2-2\"><span class=\"toc-item-num\">2&nbsp;&nbsp;</span>Aula 2</a></span><ul class=\"toc-item\"><li><span><a href=\"#Instalação\" data-toc-modified-id=\"Instalação-2.1\"><span class=\"toc-item-num\">2.1&nbsp;&nbsp;</span>Instalação</a></span><ul class=\"toc-item\"><li><span><a href=\"#Onde-eu-consigo-dados?\" data-toc-modified-id=\"Onde-eu-consigo-dados?-2.1.1\"><span class=\"toc-item-num\">2.1.1&nbsp;&nbsp;</span>Onde eu consigo dados?</a></span></li></ul></li><li><span><a href=\"#Algumas-definições\" data-toc-modified-id=\"Algumas-definições-2.2\"><span class=\"toc-item-num\">2.2&nbsp;&nbsp;</span>Algumas definições</a></span><ul class=\"toc-item\"><li><span><a href=\"#Tipos-de-aprendizado\" data-toc-modified-id=\"Tipos-de-aprendizado-2.2.1\"><span class=\"toc-item-num\">2.2.1&nbsp;&nbsp;</span>Tipos de aprendizado</a></span></li><li><span><a href=\"#Layout-dos-dados\" data-toc-modified-id=\"Layout-dos-dados-2.2.2\"><span class=\"toc-item-num\">2.2.2&nbsp;&nbsp;</span>Layout dos dados</a></span></li></ul></li></ul></li><li><span><a href=\"#Aula-3\" data-toc-modified-id=\"Aula-3-3\"><span class=\"toc-item-num\">3&nbsp;&nbsp;</span>Aula 3</a></span></li></ul></div>"
   ]
  },
  {
   "cell_type": "markdown",
   "metadata": {},
   "source": [
    "* Aula 1: metodologia de trabalho\n",
    "* Aula 2: instalação de pacotes, nomenclatura e estrutura dos dados\n",
    "* Aula 3: entendimento dos dados \n",
    "* Aula 4: preparação dos dados\n",
    "* Aula 5: Modelo (arvore de decisao)\n",
    "* Aula 6: avaliação (matriz de confusão; acurácia; \n",
    "* Aula 7: deploy "
   ]
  },
  {
   "cell_type": "markdown",
   "metadata": {},
   "source": [
    "# Aula 1"
   ]
  },
  {
   "cell_type": "markdown",
   "metadata": {},
   "source": [
    "<img src='fluxograma-Go-Horse.gif'>"
   ]
  },
  {
   "cell_type": "code",
   "execution_count": 1,
   "metadata": {
    "scrolled": true
   },
   "outputs": [
    {
     "data": {
      "text/html": [
       "\n",
       "        <iframe\n",
       "            width=\"800\"\n",
       "            height=\"500\"\n",
       "            src=\"crisp-dm-nutshell-v3.pdf\"\n",
       "            frameborder=\"0\"\n",
       "            allowfullscreen\n",
       "        ></iframe>\n",
       "        "
      ],
      "text/plain": [
       "<IPython.lib.display.IFrame at 0x7fa0884e8a50>"
      ]
     },
     "execution_count": 1,
     "metadata": {},
     "output_type": "execute_result"
    }
   ],
   "source": [
    "from IPython.display import IFrame\n",
    "IFrame(\"crisp-dm-nutshell-v3.pdf\", width=800, height=500)"
   ]
  },
  {
   "cell_type": "markdown",
   "metadata": {},
   "source": [
    "Referência: https://www.youtube.com/watch?v=qtMzVEWo0d4&t=3s"
   ]
  },
  {
   "cell_type": "markdown",
   "metadata": {},
   "source": [
    "# Aula 2"
   ]
  },
  {
   "cell_type": "markdown",
   "metadata": {},
   "source": [
    "## Instalação"
   ]
  },
  {
   "cell_type": "markdown",
   "metadata": {},
   "source": [
    "Há duas opções principais para instalar bibliotecas Python:\n",
    "- **pip**: Pip Installs Python \n",
    "- **Anaconda**"
   ]
  },
  {
   "cell_type": "markdown",
   "metadata": {},
   "source": [
    "Você pode instalar pelo terminal, utilizando, por exemplo: \n",
    "\n",
    "$ pip install pandas"
   ]
  },
  {
   "cell_type": "markdown",
   "metadata": {},
   "source": [
    "Ou pode instalar aqui no notebook, usando\n",
    "\n",
    "! pip install pandas"
   ]
  },
  {
   "cell_type": "markdown",
   "metadata": {},
   "source": [
    "O mesmo vale para o Anaconda:\n",
    "   \n",
    "conda install pandas"
   ]
  },
  {
   "cell_type": "markdown",
   "metadata": {},
   "source": [
    "**Vamos instalar alguns pacotes que iremos usar aqui:**"
   ]
  },
  {
   "cell_type": "markdown",
   "metadata": {},
   "source": [
    "Para isso, vamos criar um ambiente isolado, em que poderemos instalar os pacotes e versões para o nosso projeto:\n",
    "\n",
    "*Linux*\n",
    "\n",
    "\\$ python -m venv env\n",
    "\n",
    "\\$ source env/bin/activate\n",
    "\n",
    "*Windows*\n",
    "\n",
    "C:> env\\Scripts\\activate.bat"
   ]
  },
  {
   "cell_type": "code",
   "execution_count": 2,
   "metadata": {},
   "outputs": [
    {
     "name": "stdout",
     "output_type": "stream",
     "text": [
      "Requirement already satisfied: pandas in /home/walkira/anaconda3/lib/python3.7/site-packages (1.1.3)\n",
      "Requirement already satisfied: python-dateutil>=2.7.3 in /home/walkira/anaconda3/lib/python3.7/site-packages (from pandas) (2.8.1)\n",
      "Requirement already satisfied: numpy>=1.15.4 in /home/walkira/anaconda3/lib/python3.7/site-packages (from pandas) (1.18.1)\n",
      "Requirement already satisfied: pytz>=2017.2 in /home/walkira/anaconda3/lib/python3.7/site-packages (from pandas) (2019.3)\n",
      "Requirement already satisfied: six>=1.5 in /home/walkira/anaconda3/lib/python3.7/site-packages (from python-dateutil>=2.7.3->pandas) (1.14.0)\n",
      "Requirement already satisfied: numpy in /home/walkira/anaconda3/lib/python3.7/site-packages (1.18.1)\n",
      "Requirement already satisfied: pandas_profiling in /home/walkira/anaconda3/lib/python3.7/site-packages (2.6.0)\n",
      "Requirement already satisfied: statsmodels>=0.11.1 in /home/walkira/anaconda3/lib/python3.7/site-packages (from pandas_profiling) (0.11.1)\n",
      "Requirement already satisfied: confuse>=1.0.0 in /home/walkira/anaconda3/lib/python3.7/site-packages (from pandas_profiling) (1.1.0)\n",
      "Requirement already satisfied: pandas>=0.25.3 in /home/walkira/anaconda3/lib/python3.7/site-packages (from pandas_profiling) (1.1.3)\n",
      "Requirement already satisfied: astropy>=4.0 in /home/walkira/anaconda3/lib/python3.7/site-packages (from pandas_profiling) (4.0)\n",
      "Requirement already satisfied: phik>=0.9.10 in /home/walkira/anaconda3/lib/python3.7/site-packages (from pandas_profiling) (0.9.11)\n",
      "Requirement already satisfied: missingno>=0.4.2 in /home/walkira/anaconda3/lib/python3.7/site-packages (from pandas_profiling) (0.4.2)\n",
      "Requirement already satisfied: matplotlib>=3.2.0 in /home/walkira/anaconda3/lib/python3.7/site-packages (from pandas_profiling) (3.2.1)\n",
      "Requirement already satisfied: htmlmin>=0.1.12 in /home/walkira/anaconda3/lib/python3.7/site-packages (from pandas_profiling) (0.1.12)\n",
      "Requirement already satisfied: requests>=2.23.0 in /home/walkira/anaconda3/lib/python3.7/site-packages (from pandas_profiling) (2.23.0)\n",
      "Requirement already satisfied: scipy>=1.4.1 in /home/walkira/anaconda3/lib/python3.7/site-packages (from pandas_profiling) (1.4.1)\n",
      "Requirement already satisfied: tqdm>=4.43.0 in /home/walkira/anaconda3/lib/python3.7/site-packages (from pandas_profiling) (4.45.0)\n",
      "Requirement already satisfied: ipywidgets>=7.5.1 in /home/walkira/anaconda3/lib/python3.7/site-packages (from pandas_profiling) (7.5.1)\n",
      "Requirement already satisfied: numpy>=1.16.0 in /home/walkira/anaconda3/lib/python3.7/site-packages (from pandas_profiling) (1.18.1)\n",
      "Requirement already satisfied: jinja2>=2.11.1 in /home/walkira/anaconda3/lib/python3.7/site-packages (from pandas_profiling) (2.11.1)\n",
      "Requirement already satisfied: tangled-up-in-unicode>=0.0.4 in /home/walkira/anaconda3/lib/python3.7/site-packages (from pandas_profiling) (0.0.4)\n",
      "Requirement already satisfied: visions[type_image_path]>=0.4.1 in /home/walkira/anaconda3/lib/python3.7/site-packages (from pandas_profiling) (0.4.1)\n",
      "Requirement already satisfied: patsy>=0.5 in /home/walkira/anaconda3/lib/python3.7/site-packages (from statsmodels>=0.11.1->pandas_profiling) (0.5.1)\n",
      "Requirement already satisfied: pyyaml in /home/walkira/anaconda3/lib/python3.7/site-packages (from confuse>=1.0.0->pandas_profiling) (5.3)\n",
      "Requirement already satisfied: python-dateutil>=2.7.3 in /home/walkira/anaconda3/lib/python3.7/site-packages (from pandas>=0.25.3->pandas_profiling) (2.8.1)\n",
      "Requirement already satisfied: pytz>=2017.2 in /home/walkira/anaconda3/lib/python3.7/site-packages (from pandas>=0.25.3->pandas_profiling) (2019.3)\n",
      "Requirement already satisfied: numba>=0.38.1 in /home/walkira/anaconda3/lib/python3.7/site-packages (from phik>=0.9.10->pandas_profiling) (0.48.0)\n",
      "Requirement already satisfied: joblib>=0.14.1 in /home/walkira/anaconda3/lib/python3.7/site-packages (from phik>=0.9.10->pandas_profiling) (0.14.1)\n",
      "Requirement already satisfied: seaborn in /home/walkira/anaconda3/lib/python3.7/site-packages (from missingno>=0.4.2->pandas_profiling) (0.10.0)\n",
      "Requirement already satisfied: pyparsing!=2.0.4,!=2.1.2,!=2.1.6,>=2.0.1 in /home/walkira/anaconda3/lib/python3.7/site-packages (from matplotlib>=3.2.0->pandas_profiling) (2.4.6)\n",
      "Requirement already satisfied: kiwisolver>=1.0.1 in /home/walkira/anaconda3/lib/python3.7/site-packages (from matplotlib>=3.2.0->pandas_profiling) (1.1.0)\n",
      "Requirement already satisfied: cycler>=0.10 in /home/walkira/anaconda3/lib/python3.7/site-packages (from matplotlib>=3.2.0->pandas_profiling) (0.10.0)\n",
      "Requirement already satisfied: certifi>=2017.4.17 in /home/walkira/anaconda3/lib/python3.7/site-packages (from requests>=2.23.0->pandas_profiling) (2019.11.28)\n",
      "Requirement already satisfied: urllib3!=1.25.0,!=1.25.1,<1.26,>=1.21.1 in /home/walkira/anaconda3/lib/python3.7/site-packages (from requests>=2.23.0->pandas_profiling) (1.25.8)\n",
      "Requirement already satisfied: idna<3,>=2.5 in /home/walkira/anaconda3/lib/python3.7/site-packages (from requests>=2.23.0->pandas_profiling) (2.8)\n",
      "Requirement already satisfied: chardet<4,>=3.0.2 in /home/walkira/anaconda3/lib/python3.7/site-packages (from requests>=2.23.0->pandas_profiling) (3.0.4)\n",
      "Requirement already satisfied: widgetsnbextension~=3.5.0 in /home/walkira/anaconda3/lib/python3.7/site-packages (from ipywidgets>=7.5.1->pandas_profiling) (3.5.1)\n",
      "Requirement already satisfied: nbformat>=4.2.0 in /home/walkira/anaconda3/lib/python3.7/site-packages (from ipywidgets>=7.5.1->pandas_profiling) (5.0.4)\n",
      "Requirement already satisfied: ipykernel>=4.5.1 in /home/walkira/anaconda3/lib/python3.7/site-packages (from ipywidgets>=7.5.1->pandas_profiling) (5.1.4)\n",
      "Requirement already satisfied: ipython>=4.0.0; python_version >= \"3.3\" in /home/walkira/anaconda3/lib/python3.7/site-packages (from ipywidgets>=7.5.1->pandas_profiling) (7.12.0)\n",
      "Requirement already satisfied: traitlets>=4.3.1 in /home/walkira/anaconda3/lib/python3.7/site-packages (from ipywidgets>=7.5.1->pandas_profiling) (4.3.3)\n",
      "Requirement already satisfied: MarkupSafe>=0.23 in /home/walkira/anaconda3/lib/python3.7/site-packages (from jinja2>=2.11.1->pandas_profiling) (1.1.1)\n",
      "Requirement already satisfied: networkx>=2.4 in /home/walkira/anaconda3/lib/python3.7/site-packages (from visions[type_image_path]>=0.4.1->pandas_profiling) (2.4)\n",
      "Requirement already satisfied: attrs>=19.3.0 in /home/walkira/anaconda3/lib/python3.7/site-packages (from visions[type_image_path]>=0.4.1->pandas_profiling) (19.3.0)\n",
      "Requirement already satisfied: imagehash; extra == \"type_image_path\" in /home/walkira/anaconda3/lib/python3.7/site-packages (from visions[type_image_path]>=0.4.1->pandas_profiling) (4.0)\n",
      "Requirement already satisfied: Pillow; extra == \"type_image_path\" in /home/walkira/anaconda3/lib/python3.7/site-packages (from visions[type_image_path]>=0.4.1->pandas_profiling) (7.0.0)\n",
      "Requirement already satisfied: six in /home/walkira/anaconda3/lib/python3.7/site-packages (from patsy>=0.5->statsmodels>=0.11.1->pandas_profiling) (1.14.0)\n",
      "Requirement already satisfied: llvmlite<0.32.0,>=0.31.0dev0 in /home/walkira/anaconda3/lib/python3.7/site-packages (from numba>=0.38.1->phik>=0.9.10->pandas_profiling) (0.31.0)\n",
      "Requirement already satisfied: setuptools in /home/walkira/anaconda3/lib/python3.7/site-packages (from numba>=0.38.1->phik>=0.9.10->pandas_profiling) (45.2.0.post20200210)\n",
      "Requirement already satisfied: notebook>=4.4.1 in /home/walkira/anaconda3/lib/python3.7/site-packages (from widgetsnbextension~=3.5.0->ipywidgets>=7.5.1->pandas_profiling) (6.0.3)\n",
      "Requirement already satisfied: jupyter-core in /home/walkira/anaconda3/lib/python3.7/site-packages (from nbformat>=4.2.0->ipywidgets>=7.5.1->pandas_profiling) (4.6.1)\n",
      "Requirement already satisfied: ipython-genutils in /home/walkira/anaconda3/lib/python3.7/site-packages (from nbformat>=4.2.0->ipywidgets>=7.5.1->pandas_profiling) (0.2.0)\n",
      "Requirement already satisfied: jsonschema!=2.5.0,>=2.4 in /home/walkira/anaconda3/lib/python3.7/site-packages (from nbformat>=4.2.0->ipywidgets>=7.5.1->pandas_profiling) (3.2.0)\n",
      "Requirement already satisfied: jupyter-client in /home/walkira/anaconda3/lib/python3.7/site-packages (from ipykernel>=4.5.1->ipywidgets>=7.5.1->pandas_profiling) (5.3.4)\n",
      "Requirement already satisfied: tornado>=4.2 in /home/walkira/anaconda3/lib/python3.7/site-packages (from ipykernel>=4.5.1->ipywidgets>=7.5.1->pandas_profiling) (6.0.3)\n",
      "Requirement already satisfied: jedi>=0.10 in /home/walkira/anaconda3/lib/python3.7/site-packages (from ipython>=4.0.0; python_version >= \"3.3\"->ipywidgets>=7.5.1->pandas_profiling) (0.14.1)\n",
      "Requirement already satisfied: backcall in /home/walkira/anaconda3/lib/python3.7/site-packages (from ipython>=4.0.0; python_version >= \"3.3\"->ipywidgets>=7.5.1->pandas_profiling) (0.1.0)\n",
      "Requirement already satisfied: pexpect; sys_platform != \"win32\" in /home/walkira/anaconda3/lib/python3.7/site-packages (from ipython>=4.0.0; python_version >= \"3.3\"->ipywidgets>=7.5.1->pandas_profiling) (4.8.0)\n",
      "Requirement already satisfied: prompt-toolkit!=3.0.0,!=3.0.1,<3.1.0,>=2.0.0 in /home/walkira/anaconda3/lib/python3.7/site-packages (from ipython>=4.0.0; python_version >= \"3.3\"->ipywidgets>=7.5.1->pandas_profiling) (3.0.3)\n",
      "Requirement already satisfied: pygments in /home/walkira/anaconda3/lib/python3.7/site-packages (from ipython>=4.0.0; python_version >= \"3.3\"->ipywidgets>=7.5.1->pandas_profiling) (2.5.2)\n",
      "Requirement already satisfied: decorator in /home/walkira/anaconda3/lib/python3.7/site-packages (from ipython>=4.0.0; python_version >= \"3.3\"->ipywidgets>=7.5.1->pandas_profiling) (4.4.1)\n",
      "Requirement already satisfied: pickleshare in /home/walkira/anaconda3/lib/python3.7/site-packages (from ipython>=4.0.0; python_version >= \"3.3\"->ipywidgets>=7.5.1->pandas_profiling) (0.7.5)\n",
      "Requirement already satisfied: pywavelets in /home/walkira/anaconda3/lib/python3.7/site-packages (from imagehash; extra == \"type_image_path\"->visions[type_image_path]>=0.4.1->pandas_profiling) (1.1.1)\n",
      "Requirement already satisfied: terminado>=0.8.1 in /home/walkira/anaconda3/lib/python3.7/site-packages (from notebook>=4.4.1->widgetsnbextension~=3.5.0->ipywidgets>=7.5.1->pandas_profiling) (0.8.3)\n",
      "Requirement already satisfied: prometheus-client in /home/walkira/anaconda3/lib/python3.7/site-packages (from notebook>=4.4.1->widgetsnbextension~=3.5.0->ipywidgets>=7.5.1->pandas_profiling) (0.7.1)\n",
      "Requirement already satisfied: pyzmq>=17 in /home/walkira/anaconda3/lib/python3.7/site-packages (from notebook>=4.4.1->widgetsnbextension~=3.5.0->ipywidgets>=7.5.1->pandas_profiling) (18.1.1)\n",
      "Requirement already satisfied: nbconvert in /home/walkira/anaconda3/lib/python3.7/site-packages (from notebook>=4.4.1->widgetsnbextension~=3.5.0->ipywidgets>=7.5.1->pandas_profiling) (5.6.1)\n"
     ]
    },
    {
     "name": "stdout",
     "output_type": "stream",
     "text": [
      "Requirement already satisfied: Send2Trash in /home/walkira/anaconda3/lib/python3.7/site-packages (from notebook>=4.4.1->widgetsnbextension~=3.5.0->ipywidgets>=7.5.1->pandas_profiling) (1.5.0)\n",
      "Requirement already satisfied: importlib-metadata; python_version < \"3.8\" in /home/walkira/anaconda3/lib/python3.7/site-packages (from jsonschema!=2.5.0,>=2.4->nbformat>=4.2.0->ipywidgets>=7.5.1->pandas_profiling) (1.5.0)\n",
      "Requirement already satisfied: pyrsistent>=0.14.0 in /home/walkira/anaconda3/lib/python3.7/site-packages (from jsonschema!=2.5.0,>=2.4->nbformat>=4.2.0->ipywidgets>=7.5.1->pandas_profiling) (0.15.7)\n",
      "Requirement already satisfied: parso>=0.5.0 in /home/walkira/anaconda3/lib/python3.7/site-packages (from jedi>=0.10->ipython>=4.0.0; python_version >= \"3.3\"->ipywidgets>=7.5.1->pandas_profiling) (0.5.2)\n",
      "Requirement already satisfied: ptyprocess>=0.5 in /home/walkira/anaconda3/lib/python3.7/site-packages (from pexpect; sys_platform != \"win32\"->ipython>=4.0.0; python_version >= \"3.3\"->ipywidgets>=7.5.1->pandas_profiling) (0.6.0)\n",
      "Requirement already satisfied: wcwidth in /home/walkira/anaconda3/lib/python3.7/site-packages (from prompt-toolkit!=3.0.0,!=3.0.1,<3.1.0,>=2.0.0->ipython>=4.0.0; python_version >= \"3.3\"->ipywidgets>=7.5.1->pandas_profiling) (0.1.8)\n",
      "Requirement already satisfied: entrypoints>=0.2.2 in /home/walkira/anaconda3/lib/python3.7/site-packages (from nbconvert->notebook>=4.4.1->widgetsnbextension~=3.5.0->ipywidgets>=7.5.1->pandas_profiling) (0.3)\n",
      "Requirement already satisfied: pandocfilters>=1.4.1 in /home/walkira/anaconda3/lib/python3.7/site-packages (from nbconvert->notebook>=4.4.1->widgetsnbextension~=3.5.0->ipywidgets>=7.5.1->pandas_profiling) (1.4.2)\n",
      "Requirement already satisfied: testpath in /home/walkira/anaconda3/lib/python3.7/site-packages (from nbconvert->notebook>=4.4.1->widgetsnbextension~=3.5.0->ipywidgets>=7.5.1->pandas_profiling) (0.4.4)\n",
      "Requirement already satisfied: defusedxml in /home/walkira/anaconda3/lib/python3.7/site-packages (from nbconvert->notebook>=4.4.1->widgetsnbextension~=3.5.0->ipywidgets>=7.5.1->pandas_profiling) (0.6.0)\n",
      "Requirement already satisfied: mistune<2,>=0.8.1 in /home/walkira/anaconda3/lib/python3.7/site-packages (from nbconvert->notebook>=4.4.1->widgetsnbextension~=3.5.0->ipywidgets>=7.5.1->pandas_profiling) (0.8.4)\n",
      "Requirement already satisfied: bleach in /home/walkira/anaconda3/lib/python3.7/site-packages (from nbconvert->notebook>=4.4.1->widgetsnbextension~=3.5.0->ipywidgets>=7.5.1->pandas_profiling) (3.1.0)\n",
      "Requirement already satisfied: zipp>=0.5 in /home/walkira/anaconda3/lib/python3.7/site-packages (from importlib-metadata; python_version < \"3.8\"->jsonschema!=2.5.0,>=2.4->nbformat>=4.2.0->ipywidgets>=7.5.1->pandas_profiling) (2.2.0)\n",
      "Requirement already satisfied: webencodings in /home/walkira/anaconda3/lib/python3.7/site-packages (from bleach->nbconvert->notebook>=4.4.1->widgetsnbextension~=3.5.0->ipywidgets>=7.5.1->pandas_profiling) (0.5.1)\n",
      "Requirement already satisfied: scipy in /home/walkira/anaconda3/lib/python3.7/site-packages (1.4.1)\n",
      "Requirement already satisfied: numpy>=1.13.3 in /home/walkira/anaconda3/lib/python3.7/site-packages (from scipy) (1.18.1)\n",
      "Collecting sklearn\n",
      "  Downloading sklearn-0.0.tar.gz (1.1 kB)\n",
      "Requirement already satisfied: scikit-learn in /home/walkira/anaconda3/lib/python3.7/site-packages (from sklearn) (0.22.1)\n",
      "Requirement already satisfied: joblib>=0.11 in /home/walkira/anaconda3/lib/python3.7/site-packages (from scikit-learn->sklearn) (0.14.1)\n",
      "Requirement already satisfied: scipy>=0.17.0 in /home/walkira/anaconda3/lib/python3.7/site-packages (from scikit-learn->sklearn) (1.4.1)\n",
      "Requirement already satisfied: numpy>=1.11.0 in /home/walkira/anaconda3/lib/python3.7/site-packages (from scikit-learn->sklearn) (1.18.1)\n",
      "Building wheels for collected packages: sklearn\n",
      "  Building wheel for sklearn (setup.py) ... \u001b[?25ldone\n",
      "\u001b[?25h  Created wheel for sklearn: filename=sklearn-0.0-py2.py3-none-any.whl size=1315 sha256=3b965e4ee6fb90351d1cf8817177c5b54afe618d661d56cf03fb1c8952fa7b7c\n",
      "  Stored in directory: /home/walkira/.cache/pip/wheels/46/ef/c3/157e41f5ee1372d1be90b09f74f82b10e391eaacca8f22d33e\n",
      "Successfully built sklearn\n",
      "Installing collected packages: sklearn\n",
      "Successfully installed sklearn-0.0\n",
      "Requirement already satisfied: statsmodels in /home/walkira/anaconda3/lib/python3.7/site-packages (0.11.1)\n",
      "Requirement already satisfied: patsy>=0.5 in /home/walkira/anaconda3/lib/python3.7/site-packages (from statsmodels) (0.5.1)\n",
      "Requirement already satisfied: numpy>=1.14 in /home/walkira/anaconda3/lib/python3.7/site-packages (from statsmodels) (1.18.1)\n",
      "Requirement already satisfied: scipy>=1.0 in /home/walkira/anaconda3/lib/python3.7/site-packages (from statsmodels) (1.4.1)\n",
      "Requirement already satisfied: pandas>=0.21 in /home/walkira/anaconda3/lib/python3.7/site-packages (from statsmodels) (1.1.3)\n",
      "Requirement already satisfied: six in /home/walkira/anaconda3/lib/python3.7/site-packages (from patsy>=0.5->statsmodels) (1.14.0)\n",
      "Requirement already satisfied: pytz>=2017.2 in /home/walkira/anaconda3/lib/python3.7/site-packages (from pandas>=0.21->statsmodels) (2019.3)\n",
      "Requirement already satisfied: python-dateutil>=2.7.3 in /home/walkira/anaconda3/lib/python3.7/site-packages (from pandas>=0.21->statsmodels) (2.8.1)\n",
      "Requirement already satisfied: matplotlib in /home/walkira/anaconda3/lib/python3.7/site-packages (3.2.1)\n",
      "Requirement already satisfied: cycler>=0.10 in /home/walkira/anaconda3/lib/python3.7/site-packages (from matplotlib) (0.10.0)\n",
      "Requirement already satisfied: pyparsing!=2.0.4,!=2.1.2,!=2.1.6,>=2.0.1 in /home/walkira/anaconda3/lib/python3.7/site-packages (from matplotlib) (2.4.6)\n",
      "Requirement already satisfied: python-dateutil>=2.1 in /home/walkira/anaconda3/lib/python3.7/site-packages (from matplotlib) (2.8.1)\n",
      "Requirement already satisfied: numpy>=1.11 in /home/walkira/anaconda3/lib/python3.7/site-packages (from matplotlib) (1.18.1)\n",
      "Requirement already satisfied: kiwisolver>=1.0.1 in /home/walkira/anaconda3/lib/python3.7/site-packages (from matplotlib) (1.1.0)\n",
      "Requirement already satisfied: six in /home/walkira/anaconda3/lib/python3.7/site-packages (from cycler>=0.10->matplotlib) (1.14.0)\n",
      "Requirement already satisfied: setuptools in /home/walkira/anaconda3/lib/python3.7/site-packages (from kiwisolver>=1.0.1->matplotlib) (45.2.0.post20200210)\n",
      "Requirement already satisfied: seaborn in /home/walkira/anaconda3/lib/python3.7/site-packages (0.10.0)\n",
      "Requirement already satisfied: numpy>=1.13.3 in /home/walkira/anaconda3/lib/python3.7/site-packages (from seaborn) (1.18.1)\n",
      "Requirement already satisfied: pandas>=0.22.0 in /home/walkira/anaconda3/lib/python3.7/site-packages (from seaborn) (1.1.3)\n",
      "Requirement already satisfied: matplotlib>=2.1.2 in /home/walkira/anaconda3/lib/python3.7/site-packages (from seaborn) (3.2.1)\n",
      "Requirement already satisfied: scipy>=1.0.1 in /home/walkira/anaconda3/lib/python3.7/site-packages (from seaborn) (1.4.1)\n",
      "Requirement already satisfied: python-dateutil>=2.7.3 in /home/walkira/anaconda3/lib/python3.7/site-packages (from pandas>=0.22.0->seaborn) (2.8.1)\n",
      "Requirement already satisfied: pytz>=2017.2 in /home/walkira/anaconda3/lib/python3.7/site-packages (from pandas>=0.22.0->seaborn) (2019.3)\n",
      "Requirement already satisfied: kiwisolver>=1.0.1 in /home/walkira/anaconda3/lib/python3.7/site-packages (from matplotlib>=2.1.2->seaborn) (1.1.0)\n",
      "Requirement already satisfied: pyparsing!=2.0.4,!=2.1.2,!=2.1.6,>=2.0.1 in /home/walkira/anaconda3/lib/python3.7/site-packages (from matplotlib>=2.1.2->seaborn) (2.4.6)\n",
      "Requirement already satisfied: cycler>=0.10 in /home/walkira/anaconda3/lib/python3.7/site-packages (from matplotlib>=2.1.2->seaborn) (0.10.0)\n",
      "Requirement already satisfied: six>=1.5 in /home/walkira/anaconda3/lib/python3.7/site-packages (from python-dateutil>=2.7.3->pandas>=0.22.0->seaborn) (1.14.0)\n",
      "Requirement already satisfied: setuptools in /home/walkira/anaconda3/lib/python3.7/site-packages (from kiwisolver>=1.0.1->matplotlib>=2.1.2->seaborn) (45.2.0.post20200210)\n"
     ]
    }
   ],
   "source": [
    "! pip install pandas\n",
    "! pip install numpy\n",
    "! pip install pandas_profiling\n",
    "! pip install scipy\n",
    "! pip install sklearn\n",
    "! pip install statsmodels\n",
    "! pip install matplotlib\n",
    "! pip install seaborn"
   ]
  },
  {
   "cell_type": "markdown",
   "metadata": {},
   "source": [
    "https://pandas.pydata.org/pandas-docs/stable/user_guide/10min.html"
   ]
  },
  {
   "cell_type": "markdown",
   "metadata": {},
   "source": [
    "### Onde eu consigo dados?"
   ]
  },
  {
   "cell_type": "code",
   "execution_count": 3,
   "metadata": {},
   "outputs": [],
   "source": [
    "# https://towardsdatascience.com/free-data-sets-for-machine-learning-73e74554cc21"
   ]
  },
  {
   "cell_type": "markdown",
   "metadata": {},
   "source": [
    "* Kaggle\n",
    "* Scikit-learn\n",
    "* UCI \n"
   ]
  },
  {
   "cell_type": "markdown",
   "metadata": {},
   "source": [
    "## Algumas definições"
   ]
  },
  {
   "cell_type": "markdown",
   "metadata": {},
   "source": [
    "###  Tipos de aprendizado"
   ]
  },
  {
   "cell_type": "markdown",
   "metadata": {},
   "source": [
    "* Supervisionado: Normalmente chamamos de **X** a matriz que contém as informações sobre os meus dados e de **y** os rotúlos\n",
    "\n",
    "* Não supervisionado\n",
    "\n",
    "* Por reforço"
   ]
  },
  {
   "cell_type": "markdown",
   "metadata": {},
   "source": [
    "### Layout dos dados"
   ]
  },
  {
   "cell_type": "markdown",
   "metadata": {},
   "source": [
    "# Aula 3"
   ]
  },
  {
   "cell_type": "markdown",
   "metadata": {},
   "source": [
    "* Entendimento do negócio"
   ]
  },
  {
   "cell_type": "code",
   "execution_count": null,
   "metadata": {},
   "outputs": [],
   "source": []
  },
  {
   "cell_type": "code",
   "execution_count": 4,
   "metadata": {},
   "outputs": [
    {
     "ename": "SyntaxError",
     "evalue": "invalid syntax (<ipython-input-4-f52b4ecb1f88>, line 1)",
     "output_type": "error",
     "traceback": [
      "\u001b[0;36m  File \u001b[0;32m\"<ipython-input-4-f52b4ecb1f88>\"\u001b[0;36m, line \u001b[0;32m1\u001b[0m\n\u001b[0;31m    https://pandas.pydata.org/pandas-docs/stable/user_guide/visualization.html\u001b[0m\n\u001b[0m           ^\u001b[0m\n\u001b[0;31mSyntaxError\u001b[0m\u001b[0;31m:\u001b[0m invalid syntax\n"
     ]
    }
   ],
   "source": [
    "https://pandas.pydata.org/pandas-docs/stable/user_guide/visualization.html"
   ]
  },
  {
   "cell_type": "markdown",
   "metadata": {},
   "source": [
    "* Entendimento dos dados"
   ]
  },
  {
   "cell_type": "code",
   "execution_count": null,
   "metadata": {},
   "outputs": [],
   "source": []
  }
 ],
 "metadata": {
  "kernelspec": {
   "display_name": "Python 3",
   "language": "python",
   "name": "python3"
  },
  "language_info": {
   "codemirror_mode": {
    "name": "ipython",
    "version": 3
   },
   "file_extension": ".py",
   "mimetype": "text/x-python",
   "name": "python",
   "nbconvert_exporter": "python",
   "pygments_lexer": "ipython3",
   "version": "3.7.6"
  },
  "toc": {
   "base_numbering": 1,
   "nav_menu": {},
   "number_sections": true,
   "sideBar": true,
   "skip_h1_title": false,
   "title_cell": "Table of Contents",
   "title_sidebar": "Contents",
   "toc_cell": true,
   "toc_position": {},
   "toc_section_display": true,
   "toc_window_display": true
  }
 },
 "nbformat": 4,
 "nbformat_minor": 4
}
