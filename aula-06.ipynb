{
 "cells": [
  {
   "cell_type": "markdown",
   "metadata": {
    "toc": true
   },
   "source": [
    "<h1>Table of Contents<span class=\"tocSkip\"></span></h1>\n",
    "<div class=\"toc\"><ul class=\"toc-item\"><li><span><a href=\"#É-hora-de-construir-um-modelo!\" data-toc-modified-id=\"É-hora-de-construir-um-modelo!-1\"><span class=\"toc-item-num\">1&nbsp;&nbsp;</span>É hora de construir um modelo!</a></span><ul class=\"toc-item\"><li><span><a href=\"#Avaliação\" data-toc-modified-id=\"Avaliação-1.1\"><span class=\"toc-item-num\">1.1&nbsp;&nbsp;</span>Avaliação</a></span></li></ul></li><li><span><a href=\"#Treino-e-Teste\" data-toc-modified-id=\"Treino-e-Teste-2\"><span class=\"toc-item-num\">2&nbsp;&nbsp;</span>Treino e Teste</a></span></li><li><span><a href=\"#Seleção-de-variáveis\" data-toc-modified-id=\"Seleção-de-variáveis-3\"><span class=\"toc-item-num\">3&nbsp;&nbsp;</span>Seleção de variáveis</a></span></li><li><span><a href=\"#Ajuste-do-Modelo\" data-toc-modified-id=\"Ajuste-do-Modelo-4\"><span class=\"toc-item-num\">4&nbsp;&nbsp;</span>Ajuste do Modelo</a></span></li></ul></div>"
   ]
  },
  {
   "cell_type": "markdown",
   "metadata": {},
   "source": [
    "* Aula 1: metodologia de trabalho\n",
    "* Aula 2: instalação de pacotes, nomenclatura e estrutura dos dados\n",
    "* Aula 3: entendimento dos dados \n",
    "* Aula 4: preparação dos dados\n",
    "* Aula 5: Modelo (arvore de decisao)\n",
    "* Aula 6: avaliação (matriz de confusão; acurácia; \n",
    "* Aula 7: deploy "
   ]
  },
  {
   "cell_type": "markdown",
   "metadata": {},
   "source": [
    "# É hora de construir um modelo!"
   ]
  },
  {
   "cell_type": "code",
   "execution_count": 1,
   "metadata": {},
   "outputs": [],
   "source": [
    "import pandas as pd\n",
    "import numpy as np\n",
    "\n",
    "from sklearn.datasets import load_diabetes\n",
    "from sklearn.model_selection import cross_val_score\n",
    "from sklearn.tree import DecisionTreeRegressor\n",
    "\n",
    "import matplotlib.pyplot as plt\n",
    "\n",
    "from sklearn.model_selection import train_test_split\n",
    "\n",
    "from graphviz import render"
   ]
  },
  {
   "cell_type": "code",
   "execution_count": 2,
   "metadata": {},
   "outputs": [
    {
     "data": {
      "text/plain": [
       "(23859, 10)"
      ]
     },
     "execution_count": 2,
     "metadata": {},
     "output_type": "execute_result"
    }
   ],
   "source": [
    "df_modelo = pd.read_csv('df_modelo.csv')\n",
    "df_modelo.shape\n",
    "                    "
   ]
  },
  {
   "cell_type": "code",
   "execution_count": 10,
   "metadata": {},
   "outputs": [
    {
     "data": {
      "text/html": [
       "<div>\n",
       "<style scoped>\n",
       "    .dataframe tbody tr th:only-of-type {\n",
       "        vertical-align: middle;\n",
       "    }\n",
       "\n",
       "    .dataframe tbody tr th {\n",
       "        vertical-align: top;\n",
       "    }\n",
       "\n",
       "    .dataframe thead th {\n",
       "        text-align: right;\n",
       "    }\n",
       "</style>\n",
       "<table border=\"1\" class=\"dataframe\">\n",
       "  <thead>\n",
       "    <tr style=\"text-align: right;\">\n",
       "      <th></th>\n",
       "      <th>Unnamed: 0</th>\n",
       "      <th>What is your gender? - Selected Choice</th>\n",
       "      <th>In which country do you currently reside?</th>\n",
       "      <th>What is the highest level of formal education that you have attained or plan to attain within the next 2 years?</th>\n",
       "      <th>Which best describes your undergraduate major? - Selected Choice</th>\n",
       "      <th>Select the title most similar to your current role (or most recent title if retired): - Selected Choice</th>\n",
       "      <th>In what industry is your current employer/contract (or your most recent employer if retired)? - Selected Choice</th>\n",
       "      <th>What is your age (# years)?</th>\n",
       "      <th>How many years of experience do you have in your current role?</th>\n",
       "      <th>What is your current yearly compensation (approximate $USD)?</th>\n",
       "    </tr>\n",
       "  </thead>\n",
       "  <tbody>\n",
       "    <tr>\n",
       "      <th>0</th>\n",
       "      <td>1</td>\n",
       "      <td>0</td>\n",
       "      <td>9</td>\n",
       "      <td>1</td>\n",
       "      <td>10</td>\n",
       "      <td>2</td>\n",
       "      <td>16</td>\n",
       "      <td>49</td>\n",
       "      <td>1</td>\n",
       "      <td>0</td>\n",
       "    </tr>\n",
       "    <tr>\n",
       "      <th>1</th>\n",
       "      <td>2</td>\n",
       "      <td>1</td>\n",
       "      <td>7</td>\n",
       "      <td>0</td>\n",
       "      <td>2</td>\n",
       "      <td>12</td>\n",
       "      <td>9</td>\n",
       "      <td>34</td>\n",
       "      <td>10</td>\n",
       "      <td>20</td>\n",
       "    </tr>\n",
       "    <tr>\n",
       "      <th>2</th>\n",
       "      <td>3</td>\n",
       "      <td>0</td>\n",
       "      <td>9</td>\n",
       "      <td>3</td>\n",
       "      <td>1</td>\n",
       "      <td>7</td>\n",
       "      <td>7</td>\n",
       "      <td>34</td>\n",
       "      <td>1</td>\n",
       "      <td>10</td>\n",
       "    </tr>\n",
       "    <tr>\n",
       "      <th>3</th>\n",
       "      <td>4</td>\n",
       "      <td>1</td>\n",
       "      <td>9</td>\n",
       "      <td>3</td>\n",
       "      <td>12</td>\n",
       "      <td>11</td>\n",
       "      <td>19</td>\n",
       "      <td>39</td>\n",
       "      <td>1</td>\n",
       "      <td>0</td>\n",
       "    </tr>\n",
       "    <tr>\n",
       "      <th>4</th>\n",
       "      <td>5</td>\n",
       "      <td>1</td>\n",
       "      <td>4</td>\n",
       "      <td>3</td>\n",
       "      <td>8</td>\n",
       "      <td>4</td>\n",
       "      <td>7</td>\n",
       "      <td>24</td>\n",
       "      <td>1</td>\n",
       "      <td>10</td>\n",
       "    </tr>\n",
       "  </tbody>\n",
       "</table>\n",
       "</div>"
      ],
      "text/plain": [
       "   Unnamed: 0  What is your gender? - Selected Choice  \\\n",
       "0           1                                       0   \n",
       "1           2                                       1   \n",
       "2           3                                       0   \n",
       "3           4                                       1   \n",
       "4           5                                       1   \n",
       "\n",
       "   In which country do you currently reside?  \\\n",
       "0                                          9   \n",
       "1                                          7   \n",
       "2                                          9   \n",
       "3                                          9   \n",
       "4                                          4   \n",
       "\n",
       "   What is the highest level of formal education that you have attained or plan to attain within the next 2 years?  \\\n",
       "0                                                  1                                                                 \n",
       "1                                                  0                                                                 \n",
       "2                                                  3                                                                 \n",
       "3                                                  3                                                                 \n",
       "4                                                  3                                                                 \n",
       "\n",
       "   Which best describes your undergraduate major? - Selected Choice  \\\n",
       "0                                                 10                  \n",
       "1                                                  2                  \n",
       "2                                                  1                  \n",
       "3                                                 12                  \n",
       "4                                                  8                  \n",
       "\n",
       "   Select the title most similar to your current role (or most recent title if retired): - Selected Choice  \\\n",
       "0                                                  2                                                         \n",
       "1                                                 12                                                         \n",
       "2                                                  7                                                         \n",
       "3                                                 11                                                         \n",
       "4                                                  4                                                         \n",
       "\n",
       "   In what industry is your current employer/contract (or your most recent employer if retired)? - Selected Choice  \\\n",
       "0                                                 16                                                                 \n",
       "1                                                  9                                                                 \n",
       "2                                                  7                                                                 \n",
       "3                                                 19                                                                 \n",
       "4                                                  7                                                                 \n",
       "\n",
       "   What is your age (# years)?  \\\n",
       "0                           49   \n",
       "1                           34   \n",
       "2                           34   \n",
       "3                           39   \n",
       "4                           24   \n",
       "\n",
       "   How many years of experience do you have in your current role?  \\\n",
       "0                                                  1                \n",
       "1                                                 10                \n",
       "2                                                  1                \n",
       "3                                                  1                \n",
       "4                                                  1                \n",
       "\n",
       "   What is your current yearly compensation (approximate $USD)?  \n",
       "0                                                  0             \n",
       "1                                                 20             \n",
       "2                                                 10             \n",
       "3                                                  0             \n",
       "4                                                 10             "
      ]
     },
     "execution_count": 10,
     "metadata": {},
     "output_type": "execute_result"
    }
   ],
   "source": [
    "df_modelo.head()"
   ]
  },
  {
   "cell_type": "code",
   "execution_count": 3,
   "metadata": {
    "scrolled": true
   },
   "outputs": [],
   "source": [
    "X = df_modelo.drop('What is your current yearly compensation (approximate $USD)?', axis=1)\n",
    "y = df_modelo['What is your current yearly compensation (approximate $USD)?']"
   ]
  },
  {
   "cell_type": "code",
   "execution_count": 4,
   "metadata": {},
   "outputs": [
    {
     "name": "stdout",
     "output_type": "stream",
     "text": [
      "(23859, 9)\n",
      "(23859,)\n"
     ]
    }
   ],
   "source": [
    "print(X.shape)\n",
    "print(y.shape)"
   ]
  },
  {
   "cell_type": "code",
   "execution_count": 11,
   "metadata": {},
   "outputs": [],
   "source": [
    "# Fit regression model\n",
    "regr_1 = DecisionTreeRegressor()\n",
    "regr_1.fit(X, y)\n",
    "\n",
    "# Predict\n",
    "y_pred = regr_1.predict(X)"
   ]
  },
  {
   "cell_type": "code",
   "execution_count": 12,
   "metadata": {},
   "outputs": [
    {
     "name": "stderr",
     "output_type": "stream",
     "text": [
      "dot: graph is too large for cairo-renderer bitmaps. Scaling by 0.0546445 to fit\n"
     ]
    },
    {
     "data": {
      "text/plain": [
       "'tree.dot.png'"
      ]
     },
     "execution_count": 12,
     "metadata": {},
     "output_type": "execute_result"
    }
   ],
   "source": [
    "from sklearn.tree import export_graphviz  \n",
    "  \n",
    "# export the decision tree to a tree.dot file \n",
    "# for visualizing the plot easily anywhere \n",
    "export_graphviz(regr_1, out_file ='tree.dot')  \n",
    "\n",
    "render('dot', 'png', 'tree.dot')  "
   ]
  },
  {
   "cell_type": "markdown",
   "metadata": {},
   "source": [
    "## Avaliação"
   ]
  },
  {
   "cell_type": "code",
   "execution_count": 13,
   "metadata": {},
   "outputs": [
    {
     "name": "stdout",
     "output_type": "stream",
     "text": [
      "1.0\n"
     ]
    }
   ],
   "source": [
    "from sklearn.metrics import r2_score\n",
    "print(r2_score(y, regr_1.predict(X)))\n"
   ]
  },
  {
   "cell_type": "code",
   "execution_count": 8,
   "metadata": {},
   "outputs": [
    {
     "data": {
      "text/plain": [
       "26.236365043858907"
      ]
     },
     "execution_count": 8,
     "metadata": {},
     "output_type": "execute_result"
    }
   ],
   "source": [
    "from sklearn.metrics import mean_absolute_error\n",
    "mean_absolute_error(y, y_pred)"
   ]
  },
  {
   "cell_type": "markdown",
   "metadata": {},
   "source": [
    "# Treino e Teste"
   ]
  },
  {
   "cell_type": "code",
   "execution_count": 9,
   "metadata": {},
   "outputs": [],
   "source": [
    "X_train, X_test, y_train, y_test = train_test_split(\n",
    "    X, y, test_size=0.33, random_state=42)"
   ]
  },
  {
   "cell_type": "markdown",
   "metadata": {},
   "source": [
    "# Seleção de variáveis "
   ]
  },
  {
   "cell_type": "markdown",
   "metadata": {},
   "source": [
    "# Ajuste do Modelo"
   ]
  }
 ],
 "metadata": {
  "kernelspec": {
   "display_name": "Python 3",
   "language": "python",
   "name": "python3"
  },
  "language_info": {
   "codemirror_mode": {
    "name": "ipython",
    "version": 3
   },
   "file_extension": ".py",
   "mimetype": "text/x-python",
   "name": "python",
   "nbconvert_exporter": "python",
   "pygments_lexer": "ipython3",
   "version": "3.7.6"
  },
  "toc": {
   "base_numbering": 1,
   "nav_menu": {},
   "number_sections": true,
   "sideBar": true,
   "skip_h1_title": false,
   "title_cell": "Table of Contents",
   "title_sidebar": "Contents",
   "toc_cell": true,
   "toc_position": {},
   "toc_section_display": true,
   "toc_window_display": true
  }
 },
 "nbformat": 4,
 "nbformat_minor": 4
}
