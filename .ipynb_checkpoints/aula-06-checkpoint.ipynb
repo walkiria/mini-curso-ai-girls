{
 "cells": [
  {
   "cell_type": "markdown",
   "metadata": {},
   "source": [
    "<img src='figures/logo.png'>"
   ]
  },
  {
   "cell_type": "markdown",
   "metadata": {
    "toc": true
   },
   "source": [
    "<h1>Table of Contents<span class=\"tocSkip\"></span></h1>\n",
    "<div class=\"toc\"><ul class=\"toc-item\"><li><span><a href=\"#É-hora-de-construir-um-modelo!\" data-toc-modified-id=\"É-hora-de-construir-um-modelo!-1\"><span class=\"toc-item-num\">1&nbsp;&nbsp;</span>É hora de construir um modelo!</a></span><ul class=\"toc-item\"><li><span><a href=\"#Avaliação\" data-toc-modified-id=\"Avaliação-1.1\"><span class=\"toc-item-num\">1.1&nbsp;&nbsp;</span>Avaliação</a></span><ul class=\"toc-item\"><li><span><a href=\"#O-que-aconteceu-aqui?-Acertamos-tudo-:o\" data-toc-modified-id=\"O-que-aconteceu-aqui?-Acertamos-tudo-:o-1.1.1\"><span class=\"toc-item-num\">1.1.1&nbsp;&nbsp;</span>O que aconteceu aqui? Acertamos tudo :o</a></span></li></ul></li><li><span><a href=\"#Controlando-os-parametros-da-árvore\" data-toc-modified-id=\"Controlando-os-parametros-da-árvore-1.2\"><span class=\"toc-item-num\">1.2&nbsp;&nbsp;</span>Controlando os parametros da árvore</a></span></li></ul></li><li><span><a href=\"#Treino-e-Teste\" data-toc-modified-id=\"Treino-e-Teste-2\"><span class=\"toc-item-num\">2&nbsp;&nbsp;</span>Treino e Teste</a></span></li><li><span><a href=\"#Importância-das-variáveis\" data-toc-modified-id=\"Importância-das-variáveis-3\"><span class=\"toc-item-num\">3&nbsp;&nbsp;</span>Importância das variáveis</a></span></li><li><span><a href=\"#Análise-dos-Resultados\" data-toc-modified-id=\"Análise-dos-Resultados-4\"><span class=\"toc-item-num\">4&nbsp;&nbsp;</span>Análise dos Resultados</a></span></li></ul></div>"
   ]
  },
  {
   "cell_type": "markdown",
   "metadata": {},
   "source": [
    "# É hora de construir um modelo!"
   ]
  },
  {
   "cell_type": "code",
   "execution_count": null,
   "metadata": {},
   "outputs": [],
   "source": [
    "import pandas as pd\n",
    "import numpy as np\n",
    "\n",
    "from sklearn.datasets import load_diabetes\n",
    "from sklearn.model_selection import cross_val_score\n",
    "from sklearn.tree import DecisionTreeRegressor\n",
    "\n",
    "import matplotlib.pyplot as plt\n",
    "\n",
    "from sklearn.model_selection import train_test_split\n",
    "\n",
    "from graphviz import render"
   ]
  },
  {
   "cell_type": "markdown",
   "metadata": {},
   "source": [
    "Vamos carregar aqui aqueles dados que nós contruimos na etapa de Preparação dos dados:"
   ]
  },
  {
   "cell_type": "code",
   "execution_count": null,
   "metadata": {},
   "outputs": [],
   "source": [
    "df_modelo = pd.read_csv('df_modelo.csv')\n",
    "df_modelo.shape\n",
    "                    "
   ]
  },
  {
   "cell_type": "code",
   "execution_count": null,
   "metadata": {
    "scrolled": true
   },
   "outputs": [],
   "source": [
    "df_modelo.head()"
   ]
  },
  {
   "cell_type": "code",
   "execution_count": null,
   "metadata": {},
   "outputs": [],
   "source": [
    "df_modelo = df_modelo.drop('Unnamed: 0', axis=1)"
   ]
  },
  {
   "cell_type": "markdown",
   "metadata": {},
   "source": [
    "O dataframe X, contém apenas as variáveis que descrevem os individuos e o y apenas a variável resposta, nesse caso, o valor que eles ganham anualmente"
   ]
  },
  {
   "cell_type": "code",
   "execution_count": null,
   "metadata": {
    "scrolled": true
   },
   "outputs": [],
   "source": [
    "X = df_modelo.drop('What is your current yearly compensation (approximate $USD)?', axis=1)\n",
    "y = df_modelo['What is your current yearly compensation (approximate $USD)?']"
   ]
  },
  {
   "cell_type": "code",
   "execution_count": null,
   "metadata": {},
   "outputs": [],
   "source": [
    "print(X.shape)\n",
    "print(y.shape)"
   ]
  },
  {
   "cell_type": "markdown",
   "metadata": {},
   "source": [
    "Vamos usar uma arvore de decisão aqui! \n",
    "\n",
    "Esse tipo de algoritmo é muito interessante, porque é fácil entender porque ele classificou uma amostra em um determinado valor. Isso porque ele funciona como se fosse feitas uma series de perguntas e então chega-se a uma conclusão.É uma estratégia conhecida como dividir para conquistar: um problema complexo é decomposto em sub-problemas mais simples e recursivamente esta técnica é aplicada a cada sub-problema \n",
    "\n",
    "Com esse tipo de algoritmo normalmente não precisamos escalar os dados, ele consegue lidar com dados que não são separados linearmente e a importância dos atributos é revelada e fácil de explicar"
   ]
  },
  {
   "cell_type": "code",
   "execution_count": null,
   "metadata": {},
   "outputs": [],
   "source": [
    "# Fit regression model\n",
    "regr_1 = DecisionTreeRegressor()\n",
    "regr_1.fit(X, y)\n",
    "\n",
    "# Predict\n",
    "y_pred = regr_1.predict(X)"
   ]
  },
  {
   "cell_type": "markdown",
   "metadata": {},
   "source": [
    "## Avaliação"
   ]
  },
  {
   "cell_type": "markdown",
   "metadata": {},
   "source": [
    "<img src='figures/residuals-represent-error-jpg_1.jpg'>\n"
   ]
  },
  {
   "cell_type": "code",
   "execution_count": null,
   "metadata": {},
   "outputs": [],
   "source": [
    "from sklearn.metrics import r2_score # quanto mais proximo de 1 melhor o modelo\n",
    "print(r2_score(y, regr_1.predict(X)))"
   ]
  },
  {
   "cell_type": "code",
   "execution_count": null,
   "metadata": {
    "scrolled": false
   },
   "outputs": [],
   "source": [
    "from sklearn.metrics import mean_absolute_error  # desvio médio entre observado e predito.\n",
    "mean_absolute_error(y, y_pred)"
   ]
  },
  {
   "cell_type": "markdown",
   "metadata": {},
   "source": [
    "### O que aconteceu aqui? Acertamos tudo :o\n",
    "\n",
    "<img src='figures/overfitting.png'>"
   ]
  },
  {
   "cell_type": "markdown",
   "metadata": {},
   "source": [
    "## Controlando os parametros da árvore"
   ]
  },
  {
   "cell_type": "markdown",
   "metadata": {},
   "source": [
    "A árvore estende a sua profundidade até o ponto de classificar perfeitamente os elementos do conjunto de treinamento. Para evitar isso, nós podemos evitar que a árvore cresça de maneira a superajustar os dados: "
   ]
  },
  {
   "cell_type": "code",
   "execution_count": null,
   "metadata": {},
   "outputs": [],
   "source": [
    "# Fit regression model\n",
    "regr_1 = DecisionTreeRegressor(max_depth=4)\n",
    "regr_1.fit(X, y)\n",
    "\n",
    "# Predict\n",
    "y_pred = regr_1.predict(X)"
   ]
  },
  {
   "cell_type": "code",
   "execution_count": null,
   "metadata": {},
   "outputs": [],
   "source": [
    "mean_absolute_error(y, y_pred)"
   ]
  },
  {
   "cell_type": "markdown",
   "metadata": {},
   "source": [
    "# Treino e Teste"
   ]
  },
  {
   "cell_type": "markdown",
   "metadata": {},
   "source": [
    "Outra abordagem muito importante para entendermos se está acontecendo um superajuste, é a divisão dos dados em conjuntos de treino e teste: "
   ]
  },
  {
   "cell_type": "markdown",
   "metadata": {},
   "source": [
    "<img src='figures/crossvalidation.png'>"
   ]
  },
  {
   "cell_type": "code",
   "execution_count": null,
   "metadata": {},
   "outputs": [],
   "source": [
    "X_train, X_test, y_train, y_test = train_test_split(\n",
    "    X, y, test_size=0.33, random_state=42)"
   ]
  },
  {
   "cell_type": "code",
   "execution_count": null,
   "metadata": {},
   "outputs": [],
   "source": [
    "# Fit regression model\n",
    "regr_1 = DecisionTreeRegressor(max_depth=4)\n",
    "regr_1.fit(X_train, y_train)\n",
    "\n",
    "# Predict\n",
    "y_pred = regr_1.predict(X_test)"
   ]
  },
  {
   "cell_type": "code",
   "execution_count": null,
   "metadata": {},
   "outputs": [],
   "source": [
    "mean_absolute_error(y_test, y_pred)"
   ]
  },
  {
   "cell_type": "code",
   "execution_count": null,
   "metadata": {},
   "outputs": [],
   "source": [
    "from sklearn.tree import export_graphviz  \n",
    "  \n",
    "# export the decision tree to a tree.dot file \n",
    "# for visualizing the plot easily anywhere \n",
    "export_graphviz(regr_1, out_file ='tree.dot')  \n",
    "\n",
    "render('dot', 'png', 'tree.dot')  "
   ]
  },
  {
   "cell_type": "code",
   "execution_count": null,
   "metadata": {},
   "outputs": [],
   "source": [
    "from sklearn import tree\n",
    "\n",
    "# plot tree\n",
    "plt.figure(figsize=(12,12))  # set plot size (denoted in inches)\n",
    "tree.plot_tree(regr_1, fontsize=8)\n",
    "plt.show()\n"
   ]
  },
  {
   "cell_type": "code",
   "execution_count": null,
   "metadata": {
    "scrolled": false
   },
   "outputs": [],
   "source": [
    "X"
   ]
  },
  {
   "cell_type": "markdown",
   "metadata": {},
   "source": [
    "# Importância das variáveis "
   ]
  },
  {
   "cell_type": "code",
   "execution_count": null,
   "metadata": {},
   "outputs": [],
   "source": [
    "from matplotlib import pyplot"
   ]
  },
  {
   "cell_type": "code",
   "execution_count": null,
   "metadata": {
    "scrolled": true
   },
   "outputs": [],
   "source": [
    "importance = regr_1.feature_importances_\n",
    "\n",
    "# summarize feature importance\n",
    "for i,v in enumerate(importance):\n",
    "    print('Feature: %0d, Score: %.5f' % (i,v))\n"
   ]
  },
  {
   "cell_type": "code",
   "execution_count": null,
   "metadata": {},
   "outputs": [],
   "source": [
    "features_n = X.columns"
   ]
  },
  {
   "cell_type": "code",
   "execution_count": null,
   "metadata": {},
   "outputs": [],
   "source": [
    "\n",
    "# plot feature importance\n",
    "pyplot.bar([x for x in range(len(importance))], importance)\n",
    "pyplot.xticks([x for x in range(len(importance))], features_n, rotation='vertical')\n",
    "pyplot.show()"
   ]
  },
  {
   "cell_type": "markdown",
   "metadata": {},
   "source": [
    "# Análise dos Resultados"
   ]
  },
  {
   "cell_type": "markdown",
   "metadata": {},
   "source": [
    "Esse modelo sugere, que a variavel mais importante para a determinação do salário é o Pais de residência. Seguida da idade e do titulo.\n",
    "\n",
    "Dessa forma, não conseguimos identificar um viés de genêro. O que não quer dizer que ele não exista, mas que esse padrão não foi identificado na nossa amostra. \n",
    "\n",
    "Algumas análises adicionais que podemos fazer, é por exemplo, fazer o que chamamos de pareamento. Selecionar pessoas do mesmo país e com o mesmo titulo e tentar identificar se existe um viés. "
   ]
  },
  {
   "cell_type": "code",
   "execution_count": null,
   "metadata": {
    "scrolled": true
   },
   "outputs": [],
   "source": [
    "df_modelo.iloc[:,1].value_counts() # vamos selecionar todos do pais 11 --> United States of America                                \n"
   ]
  },
  {
   "cell_type": "code",
   "execution_count": null,
   "metadata": {
    "scrolled": true
   },
   "outputs": [],
   "source": [
    "df_modelo.iloc[:,4].value_counts() # vamos pegar todos da profissao 7 - Data scientist"
   ]
  },
  {
   "cell_type": "code",
   "execution_count": null,
   "metadata": {},
   "outputs": [],
   "source": [
    "df_modelo2 = df_modelo[(df_modelo.iloc[:,1] == 11) & (df_modelo.iloc[:,4] == 7) ]\n",
    "# df_modelo2 = df_modelo[(df_modelo.iloc[:,4] == 14) ]"
   ]
  },
  {
   "cell_type": "code",
   "execution_count": null,
   "metadata": {},
   "outputs": [],
   "source": [
    "df_modelo2 = df_modelo2.drop(['In which country do you currently reside?', 'Select the title most similar to your current role (or most recent title if retired): - Selected Choice'], axis=1)\n",
    "# df_modelo2 = df_modelo2.drop(['Select the title most similar to your current role (or most recent title if retired): - Selected Choice'], axis=1)"
   ]
  },
  {
   "cell_type": "code",
   "execution_count": null,
   "metadata": {},
   "outputs": [],
   "source": [
    "X = df_modelo2.drop('What is your current yearly compensation (approximate $USD)?', axis=1)\n",
    "y = df_modelo2['What is your current yearly compensation (approximate $USD)?']"
   ]
  },
  {
   "cell_type": "code",
   "execution_count": null,
   "metadata": {},
   "outputs": [],
   "source": [
    "X_train, X_test, y_train, y_test = train_test_split(\n",
    "    X, y, test_size=0.33, random_state=42)"
   ]
  },
  {
   "cell_type": "code",
   "execution_count": null,
   "metadata": {},
   "outputs": [],
   "source": [
    "# Fit regression model\n",
    "regr_1 = DecisionTreeRegressor(max_depth=4)\n",
    "regr_1.fit(X_train, y_train)\n",
    "\n",
    "# Predict\n",
    "y_pred = regr_1.predict(X_test)"
   ]
  },
  {
   "cell_type": "code",
   "execution_count": null,
   "metadata": {},
   "outputs": [],
   "source": [
    "mean_absolute_error(y_test, y_pred)"
   ]
  },
  {
   "cell_type": "code",
   "execution_count": null,
   "metadata": {},
   "outputs": [],
   "source": [
    "features_n = X.columns"
   ]
  },
  {
   "cell_type": "code",
   "execution_count": null,
   "metadata": {},
   "outputs": [],
   "source": [
    "# plot feature importance\n",
    "pyplot.bar([x for x in range(len(importance))], importance)\n",
    "pyplot.xticks([x for x in range(len(importance))], features_n, rotation='vertical')\n",
    "pyplot.show()"
   ]
  },
  {
   "cell_type": "markdown",
   "metadata": {},
   "source": [
    "Outra hipotese que podemos levantar aqui é o desbalanceamento da base: \n",
    "    "
   ]
  },
  {
   "cell_type": "code",
   "execution_count": null,
   "metadata": {
    "scrolled": true
   },
   "outputs": [],
   "source": [
    "df_modelo2.iloc[:,0].value_counts(normalize=True)"
   ]
  },
  {
   "cell_type": "code",
   "execution_count": null,
   "metadata": {},
   "outputs": [],
   "source": [
    "df_modelo2.iloc[:,0].value_counts()"
   ]
  },
  {
   "cell_type": "markdown",
   "metadata": {},
   "source": [
    "Vamos normalizar colocando a mesma quantidade de homens e mulheres! "
   ]
  },
  {
   "cell_type": "code",
   "execution_count": null,
   "metadata": {},
   "outputs": [],
   "source": [
    "from sklearn.utils import resample"
   ]
  },
  {
   "cell_type": "code",
   "execution_count": null,
   "metadata": {
    "scrolled": true
   },
   "outputs": [],
   "source": [
    "# Separate majority and minority classes\n",
    "df_majority = df_modelo2[df_modelo2.iloc[:,0]==1]\n",
    "df_minority = df_modelo2[df_modelo2.iloc[:,0]==0]\n",
    " \n",
    "# Downsample majority class\n",
    "df_majority_downsampled = resample(df_majority, \n",
    "                                 replace=False,    # sample without replacement\n",
    "                                 n_samples=10,     # to match minority class\n",
    "                                 random_state=123) # reproducible results\n",
    " \n",
    "# Combine minority class with downsampled majority class\n",
    "df_downsampled = pd.concat([df_majority_downsampled, df_minority])\n",
    " \n",
    "# Display new class counts\n",
    "df_downsampled.iloc[:,0].value_counts()"
   ]
  },
  {
   "cell_type": "code",
   "execution_count": null,
   "metadata": {},
   "outputs": [],
   "source": [
    "df_majority_downsampled.head()"
   ]
  },
  {
   "cell_type": "code",
   "execution_count": null,
   "metadata": {},
   "outputs": [],
   "source": [
    "X = df_majority_downsampled.drop('What is your current yearly compensation (approximate $USD)?', axis=1)\n",
    "y = df_majority_downsampled['What is your current yearly compensation (approximate $USD)?']"
   ]
  },
  {
   "cell_type": "code",
   "execution_count": null,
   "metadata": {},
   "outputs": [],
   "source": [
    "X_train, X_test, y_train, y_test = train_test_split(\n",
    "    X, y, test_size=0.33, random_state=42)"
   ]
  },
  {
   "cell_type": "code",
   "execution_count": null,
   "metadata": {},
   "outputs": [],
   "source": [
    "# Fit regression model\n",
    "regr_1 = DecisionTreeRegressor(max_depth=4)\n",
    "regr_1.fit(X_train, y_train)\n",
    "\n",
    "# Predict\n",
    "y_pred = regr_1.predict(X_test)"
   ]
  },
  {
   "cell_type": "code",
   "execution_count": null,
   "metadata": {
    "scrolled": true
   },
   "outputs": [],
   "source": [
    "mean_absolute_error(y_test, y_pred)"
   ]
  },
  {
   "cell_type": "code",
   "execution_count": null,
   "metadata": {},
   "outputs": [],
   "source": [
    "features_n = X.columns"
   ]
  },
  {
   "cell_type": "code",
   "execution_count": null,
   "metadata": {},
   "outputs": [],
   "source": [
    "# plot feature importance\n",
    "pyplot.bar([x for x in range(len(importance))], importance)\n",
    "pyplot.xticks([x for x in range(len(importance))], features_n, rotation='vertical')\n",
    "pyplot.show()"
   ]
  }
 ],
 "metadata": {
  "kernelspec": {
   "display_name": "Python 3",
   "language": "python",
   "name": "python3"
  },
  "language_info": {
   "codemirror_mode": {
    "name": "ipython",
    "version": 3
   },
   "file_extension": ".py",
   "mimetype": "text/x-python",
   "name": "python",
   "nbconvert_exporter": "python",
   "pygments_lexer": "ipython3",
   "version": "3.7.6"
  },
  "toc": {
   "base_numbering": 1,
   "nav_menu": {},
   "number_sections": true,
   "sideBar": true,
   "skip_h1_title": false,
   "title_cell": "Table of Contents",
   "title_sidebar": "Contents",
   "toc_cell": true,
   "toc_position": {},
   "toc_section_display": true,
   "toc_window_display": false
  }
 },
 "nbformat": 4,
 "nbformat_minor": 4
}
